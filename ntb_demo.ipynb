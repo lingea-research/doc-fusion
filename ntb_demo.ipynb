{
 "cells": [
  {
   "cell_type": "code",
   "execution_count": null,
   "id": "846a08ff-f5f5-412e-a7ff-ee37c7656187",
   "metadata": {
    "tags": []
   },
   "outputs": [],
   "source": [
    "import ipywidgets as widgets\n",
    "\n",
    "from sentence_transformers import SentenceTransformer\n",
    "model = SentenceTransformer('sentence-transformers/distiluse-base-multilingual-cased-v2')\n",
    "\n",
    "from fusion import process_doc_collection, view_collection"
   ]
  },
  {
   "cell_type": "code",
   "execution_count": null,
   "id": "6a0b76fc-5bf7-464f-9a82-10743cac7c66",
   "metadata": {
    "tags": []
   },
   "outputs": [],
   "source": [
    "art_seznam = [\n",
    "\"Ukrajina podává žádost o urychlené přijetí do NATO. Reaguje tak na ruské stvrzení anexe okupovaných ukrajinských území. Prezident Volodymyr Zelenskyj dal dopředu najevo, že na ukrajinské válečné strategii anexe nic nezmění.\",\n",
    "\"„Pokračujeme v práci a osvobozujeme ukrajinská území. Ale nevěnujeme pozornost těm, kteří by měli brát prášky. Armáda funguje, Ukrajina je jednotná. Pokračujeme,“ napsal na sociálních sítích v první reakci na Putinův projev šéf ukrajinské prezidentské kanceláře Andrij Jermak.\",\n",
    "\"Prezident Volodymyr Zelenskyj pak oznámil, že Ukrajina podala žádost o urychlené přijetí do NATO. „Už jsme prokázali naši kompatibilitu se standardy Aliance,“ napsal prezident v příspěvku na sociální síti Telegram.\",\n",
    "\"Zelenskyj v reakci na Putinovu výzvu k jednání řekl, že Kyjev je připravený. „Byla to právě naše země, která vždy nabízela Rusku dosažení dohody na kooexistenci na základě rovných, čestných, slušných a férových podmínek. Je ale jasné, že to není možné s tímto ruským prezidentem,“ řekl ukrajinský lídr.\",\n",
    "\"Dodal, že je připravený jednat s jiným ruským prezidentem.\",\n",
    "\"V Kyjevě v souvislosti s ruskou anexí zasedala v pátek ukrajinská bezpečnostní rada. „Naše reakce na uznání výsledků (pseudoreferend na okupovaných územích) ze strany Ruska bude velmi tvrdá,“ prohlásil už ve čtvrtek Zelenskyj.\",\n",
    "\"„Jsou bezcenná a realitu nezmění. Celistvost Ukrajiny bude obnovena,“ dodal prezident o zinscenovaných hlasováních.\",\n",
    "\"Ještě před pátečním jednáním bezpečnostní rady se konala schůzka generálního štábu. Řešila se na ní aktuální situace na frontách a plánoval se další postup proti okupantům a osvobozování území a také distribuce munice.\"\n",
    "\"Podle zprávy prezidentské kanceláře se probíraly i pravděpodobné akce ruského agresora.\",\n",
    "\"Obecně se předpokládá, že Kreml ještě vyostří rétoriku ohledně možného použití jaderných zbraní, protože teď okupovaná ukrajinská území bude prezentovat jako integrální součást Ruska.\",\n",
    "\"Rusko je dobylo, vytvořilo v nich loutkové vlády, zmanipulovalo referenda a nakonec prezident Putin v pátek odpoledne oznámil jejich anexi.\",\n",
    "]\n",
    "art_idnes = [\n",
    "\"Ukrajinský prezident Volodymyr Zelenskyj uvedl, že jeho země podává žádost o urychlené přijetí do Severoatlantické aliance. Ukrajina podle jeho slov nebude jednat s Ruskem, dokud ruským prezidentem bude Vladimir Putin. Budeme jednat s novou hlavou státu, uvedl ukrajinský prezident Zelenskyj.\",\n",
    "\"„Ukrajina byla a je vůdčí silou ve snahách o jednání. Byl to náš stát, kdo Rusku vždy nabízel, aby souhlasilo se soužitím za rovných, čestných, důstojných a férových podmínek. Je zřejmé, že s tímto ruským prezidentem to není možné. On neví, co je důstojnost a čest. Jsme tedy připraveni vést dialog s Ruskem, ovšem za jiného ruského prezidenta,“ oznámil Zelenskyj.\",\n",
    "\"Zelenskyj se tak vyjádřil jen krátce poté, co Putin v Kremlu oznámil anexi čtyř Moskvou okupovaných ukrajinských regionů a s jejich proruskými vůdci podepsal smlouvy o připojení těchto ukrajinských území k Ruské federaci.\",\n",
    "\"Diktátor v projevu vyzval Ukrajinu, aby s Ruskem zasedla k jednacímu stolu. Varoval však, že se anektovaných území nevzdá a bude je bránit „všemi dostupnými prostředky“. Západ anexi odmítá, stejně jako výsledky lidových hlasování, která Rusové v okupovaných oblastech uspořádali a podle nichž tamní ukrajinští občasné s připojením k Rusku drtivě souhlasili.\",\n",
    "\"Pokud jde o vstup Ukrajiny do NATO, Zelenského oznámení je obrat proti posledním měsícům. Ukrajinský prezident nejprve dlouho naléhal na členy NATO, aby Ukrajince přijali mezi sebe. A pak rezignovaně přiznal, že už se vzdal nadějí, že se tak někdy stane.\",\n",
    "\"Podle něj bylo Kyjevu dáno na vědomí, že politika „otevřených dveří“ se Ukrajiny netýká. Ukrajina se nicméně později stala kandidátskou zemí alespoň na vstup do Evropské unie. A teď žádá znovu i o přijetí do NATO.\",\n",
    "\"„Podepsáním žádosti Ukrajiny o urychlený vstup do NATO činíme rozhodující krok,“ uvedl Zelenskyj. „De facto jsme svou cestu do NATO už prošli. De facto jsme již prokázali kompatibilitu s aliančními normami. Pro Ukrajinu jsou reálné – reálné na bojišti a ve všech aspektech naší interakce,“ napsal Zelenskyj na Telegramu. „Ukrajina dnes podává žádost, aby tak učinila de iure,“ dodal\",\n",
    "\"Co přesně „urychlená“ žádost o vstup do NATO znamená, není zatím jasné, protože vstup nové země do NATO vyžaduje jednomyslnou podporu Aliance, poznamenala agentura AP.\",\n",
    "\"Zelenskyj rovněž zopakoval svůj slib, že sjednotí celé ukrajinské území včetně toho, které nyní okupuje Rusko. „Území celé naší země bude osvobozeno od tohoto nepřítele – nejen nepřítele Ukrajiny, ale také samotného života, lidskosti, práva a pravdy,“ uvedl. Už ve čtvrtek varoval, že Ukrajina zareaguje „velmi tvrdě“ na pokus Ruska anektovat další části jejího území, a na pátek svolal mimořádné zasedání ukrajinské Rady národní bezpečnosti a obrany.\",\n",
    "\"„Byla projednána opatření, která je třeba přijmout k zajištění kolektivní bezpečnosti euroatlantického prostoru a Ukrajiny,“ stálo po jejím zasedání na oficiálních webových stránkách Zelenského. Mezi tato opatření by podle Kyjeva mělo patřit i zavedení strategie jaderného odstrašení proti Rusku ze strany ukrajinských spojenců.\",\n",
    "]\n",
    "art_novinky = [\n",
    "\"Ukrajina je připravena na rozhovory s Ruskem, ale nikoliv s Vladimirem Putinem. Bude jednat až s novým ruským prezidentem, prohlásil ukrajinský prezident Volodymyr Zelenskyj.\",\n",
    "\"„Ukrajina byla a zůstává lídrem v úsilí o vyjednávání. Je to náš stát, který vždy nabízel Rusku, aby se dohodlo na soužití za rovných, čestných, slušných a spravedlivých podmínek. Je zřejmé, že s tímto ruským prezidentem je to nemožné. Neví, co je důstojnost a poctivost. Proto jsme připraveni na dialog s Ruskem, ale s jiným ruským prezidentem,“ řekl Zelenskyj, který v prvních měsících opakovaně vyzýval Putina k přímému jednání, což Kreml odmítal.\",\n",
    "\"Opětovného míru bude podle jeho slov dosaženo pouze „posílením Ukrajiny a vyhnáním okupantů z celého ukrajinského území“.\",\n",
    "\"Ruský prezident v pátečním projevu, který předcházel podpisu smluv o připojení ukrajinských oblastí k Rusku, prohlásil, že země bude hájit anektovaná ukrajinská území „všemi dostupnými prostředky“. Zároveň zdůraznil, že anektovaných území se Moskva nevzdá.\",\n",
    "\"Zelenskyj současně oznámil, že jeho země podává žádost o urychlené přijetí do Severoatlantické aliance, jako to udělalo Švédsko a Finsko.\",\n",
    "\"Co přesně „urychlená“ žádost o vstup do NATO znamená, není zatím jasné, protože vstup nové země do NATO vyžaduje jednomyslnou podporu Aliance, připomíná agentura AP. Zelenskyj v polovině března uvedl, že si je vědom toho, že jeho země se členem Severoatlantické aliance nestane. Podle tehdejšího vyjádření ukrajinského prezidenta bylo Kyjevu dáno na vědomí, že politika „otevřených dveří“ se Ukrajiny netýká.\"\n",
    "]\n",
    "arts = [art_seznam, art_idnes, art_novinky]"
   ]
  },
  {
   "cell_type": "code",
   "execution_count": null,
   "id": "1c24e869-5021-460c-82be-ecddc3ea7ecc",
   "metadata": {
    "tags": []
   },
   "outputs": [],
   "source": [
    "plaintext = \" \".join([\" \".join(art) for art in arts])\n",
    "tokens, sim_matrix, cluster_hierarchy = process_doc_collection(plaintext, model)"
   ]
  },
  {
   "cell_type": "code",
   "execution_count": null,
   "id": "28cc5106-40b6-4194-866d-5f6575164dfb",
   "metadata": {},
   "outputs": [],
   "source": [
    "n_sents = 3\n",
    "n_topics = 1\n",
    "keep_pairs_lt = 1\n",
    "\n",
    "top_ukr = widgets.BoundedIntText(value=n_sents, min=0, max=len(tokens), step=1, description=\"sents per topic\")\n",
    "topics_ukr = widgets.BoundedIntText(value=n_topics, min=0, max=len(tokens), step=1, description=\"n topics\")\n",
    "similarity_threshold = widgets.FloatSlider(\n",
    "    value=keep_pairs_lt,\n",
    "    min=0,\n",
    "    max=1.0,\n",
    "    step=0.01,\n",
    "    description='Similarity threshold',\n",
    "    disabled=False,\n",
    "    continuous_update=False,\n",
    "    orientation='horizontal',\n",
    "    readout=True,\n",
    "    readout_format='.2f',\n",
    ")\n",
    "\n",
    "\n",
    "output_ukr = widgets.Output()\n",
    "\n",
    "\n",
    "def display_ukr():\n",
    "    rows = view_collection(tokens, sim_matrix, cluster_hierarchy, n_topics, n_sents, keep_pairs_lt)\n",
    "    for row_id, row in enumerate(rows):\n",
    "        print(\"TOPIC: \", row_id + 1)\n",
    "        print(\"\\n\".join(row))\n",
    "        print()\n",
    "\n",
    "def on_value_change_ukr(change):\n",
    "    # sent_highlighted_ids = sent_scores[:change['new']]\n",
    "    global n_sents\n",
    "    n_sents = change['new']\n",
    "    with output_ukr:\n",
    "        output_ukr.clear_output()\n",
    "        display_ukr()\n",
    "\n",
    "def on_value_change_topic_ukr(change):\n",
    "    # sent_highlighted_ids = sent_scores[:change['new']]\n",
    "    global n_topics\n",
    "    n_topics = change['new']\n",
    "    with output_ukr:\n",
    "        output_ukr.clear_output()\n",
    "        display_ukr()\n",
    "\n",
    "def on_value_change_similarity(change):\n",
    "    global keep_pairs_lt\n",
    "    keep_pairs_lt = change['new']\n",
    "    with output_ukr:\n",
    "        output_ukr.clear_output()\n",
    "        display_ukr()\n",
    "        \n",
    "top_ukr.observe(on_value_change_ukr, names='value')\n",
    "topics_ukr.observe(on_value_change_topic_ukr, names='value')\n",
    "similarity_threshold.observe(on_value_change_similarity, names='value')\n",
    "\n",
    "display(topics_ukr)\n",
    "display(top_ukr)\n",
    "display(similarity_threshold)\n",
    "display(output_ukr)\n",
    "\n",
    "with output_ukr:\n",
    "    output_ukr.clear_output()\n",
    "    display_ukr();"
   ]
  }
 ],
 "metadata": {
  "kernelspec": {
   "display_name": "Python 3",
   "language": "python",
   "name": "python3"
  },
  "language_info": {
   "codemirror_mode": {
    "name": "ipython",
    "version": 3
   },
   "file_extension": ".py",
   "mimetype": "text/x-python",
   "name": "python",
   "nbconvert_exporter": "python",
   "pygments_lexer": "ipython3",
   "version": "3.6.3"
  },
  "voila": {
   "theme": "dark"
  }
 },
 "nbformat": 4,
 "nbformat_minor": 5
}