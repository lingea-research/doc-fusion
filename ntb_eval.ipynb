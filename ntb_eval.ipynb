{
 "cells": [
  {
   "cell_type": "code",
   "execution_count": null,
   "id": "8148e1d3-cba0-4b0a-8ec6-aac9da02667b",
   "metadata": {},
   "outputs": [],
   "source": [
    "from pathlib import Path\n",
    "import json\n",
    "from matplotlib import pyplot as plt\n",
    "import numpy as np"
   ]
  },
  {
   "cell_type": "code",
   "execution_count": null,
   "id": "09e1d644-6dec-4f4b-b034-37e1ec2e8d7f",
   "metadata": {},
   "outputs": [],
   "source": [
    "resfile = Path(f\"results/sumec/230111T152922/_FINAL\")\n",
    "assert resfile.exists()"
   ]
  },
  {
   "cell_type": "code",
   "execution_count": null,
   "id": "4970026c-b04e-4f81-9275-08bf4c41fff0",
   "metadata": {},
   "outputs": [],
   "source": [
    "def load_resfile(pth):\n",
    "    with resfile.open('rt') as fin:\n",
    "        cum_res = json.loads(next(fin))\n",
    "        info = json.loads(next(fin))\n",
    "    return {k: np.array(v)/info[\"processed_points\"] for k, v in cum_res.items()}, info\n",
    "    \n",
    "res, info = load_resfile(resfile)\n",
    "info, f\"failed percentage: {info['failed_points_ids']/info['processed_points']*100:.2f}%\""
   ]
  },
  {
   "cell_type": "markdown",
   "id": "d656eb60-bb93-476a-9fcb-03afe0b736b9",
   "metadata": {},
   "source": [
    "# Evaluation on SumeCzech\n",
    "\n",
    "\n",
    "* each subplot (bluish matrix) evaluates a single experiment\n",
    "* **within** the subplot:\n",
    "    * the rows correspond to a ROUGE metric type: unigram / bigram / longest common subsequence\n",
    "    * the columns correspond to: precision / recall / F measure\n",
    "\n",
    "\n",
    "\n",
    "## Baseline results\n",
    "reported here: https://ufal.mff.cuni.cz/sumeczech (text -> abstract, test set)"
   ]
  },
  {
   "cell_type": "code",
   "execution_count": null,
   "id": "d6249ba2-15f0-4f75-82cf-dde27b504b72",
   "metadata": {
    "tags": []
   },
   "outputs": [],
   "source": [
    "%matplotlib inline\n",
    "fig, axs = plt.subplots(1, 4, figsize=(16, 4))\n",
    "reported_results = {\n",
    "\"first\": np.array([13.1, 17.9, 14.4, 01.9, 02.8, 02.1, 08.8, 12.0, 09.6,]).reshape(3,3) / 100,\n",
    "\"random\": np.array([11.7, 15.5, 12.7, 01.2, 01.7, 01.3, 07.7, 10.3, 08.4,]).reshape(3,3) / 100,\n",
    "\"textrank\": np.array([11.1, 20.8, 13.8, 01.6, 03.1, 02.0, 07.1, 13.4, 08.9,]).reshape(3,3) / 100,\n",
    "\"tensor2tensor\": np.array([13.2, 10.5, 11.3, 01.2, 00.9, 01.0, 10.2, 08.1, 08.7,]).reshape(3,3) / 100,\n",
    "}\n",
    "for col_id, baseline_type in enumerate(reported_results.keys()):\n",
    "    ax = axs[col_id]\n",
    "    cell = reported_results[baseline_type]\n",
    "    im = ax.imshow(cell, vmin=0, vmax=1)\n",
    "    for rouge_id in range(3):\n",
    "        for type_id in range(3):\n",
    "            ax.text(type_id, rouge_id, f\"{cell[rouge_id, type_id]:.2f}\", ha=\"center\", va=\"center\", color=\"w\")\n",
    "    ax.set(xticks=[0,1,2], xticklabels=[\"Prec\",\"Rec\",\"F1\"], yticks=[0,1,2], yticklabels=[\"1grm\",\"2grm\",\"Long\"]);\n",
    "    ax.set_title(baseline_type)\n"
   ]
  },
  {
   "cell_type": "markdown",
   "id": "3dc5a1d1-17d8-4277-b0ef-bc1add0e87c6",
   "metadata": {},
   "source": [
    "## This method\n",
    "\n",
    "evaluation for each combination of two hyperparameters:\n",
    "* number of clusters (rows)\n",
    "* number of sentences per cluster (columns)"
   ]
  },
  {
   "cell_type": "code",
   "execution_count": null,
   "id": "35af889a-b590-4863-84ab-69dad9c6b42b",
   "metadata": {
    "tags": []
   },
   "outputs": [],
   "source": [
    "%matplotlib inline\n",
    "\n",
    "def dictkey_to_cellcoord(k, is_multinews):\n",
    "    rouge_type, measure_type = k.split(\"_\")\n",
    "    metric_type_options = ('1', '2', 'su4') if is_multinews else ('1', '2', 'L')\n",
    "    row = metric_type_options.index(rouge_type)\n",
    "    col = ('p', 'r', 'f').index(measure_type)\n",
    "    return row, col\n",
    "\n",
    "\n",
    "def cell_from_hparams(n_clust_id, n_sent_id, is_multinews):\n",
    "    cell = np.zeros((3, 3))\n",
    "    for k, v in res.items():\n",
    "        row, col = dictkey_to_cellcoord(k, is_multinews)\n",
    "        cell[row, col] = v[n_clust_id][n_sent_id]\n",
    "    return cell\n",
    "\n",
    "fig, axs = plt.subplots(5, 5, figsize=(20, 20))\n",
    "for n_clust_id in range(5):\n",
    "    for n_sent_id in range(5):  \n",
    "        cell = cell_from_hparams(n_clust_id,n_sent_id, is_multinews=False)\n",
    "        ax = axs[n_clust_id,n_sent_id]\n",
    "        im = ax.imshow(cell, vmin=0, vmax=1)\n",
    "        for rouge_id in range(3):\n",
    "            for type_id in range(3):\n",
    "                ax.text(type_id, rouge_id, f\"{cell[rouge_id, type_id]:.2f}\", ha=\"center\", va=\"center\", color=\"w\")\n",
    "        ax.set(xticks=[0,1,2], xticklabels=[\"Prec\",\"Rec\",\"F1\"], yticks=[0,1,2], yticklabels=[\"1grm\",\"2grm\",\"Long\"]);\n",
    "        if n_clust_id == 0:\n",
    "            ax.set(title=f\"sents per cluster = {n_sent_id+1}\")\n",
    "    axs[n_clust_id, 0].set(ylabel=f\"clusters = {n_clust_id+1}\")"
   ]
  },
  {
   "cell_type": "markdown",
   "id": "9008c2ae-d7ba-4110-9380-a7c2e64f52e2",
   "metadata": {},
   "source": [
    "# Evaluation on Multi-News\n",
    "\n",
    "## Baseline results\n",
    "\n",
    "| Method | ROUGE - unigrams | ROUGE - bigrams | ROUGE - SU |\n",
    "|--------| -----------------|-----------------|------------|\n",
    "|First-3 |             39.41|            11.77| 14.51 |\n",
    "|LexRank |             38.27|            12.70| 13.20 |\n",
    "|TextRank|             38.44|            13.10| 13.50 |\n",
    "\n",
    "\n",
    "reported here: https://arxiv.org/pdf/1906.01749v3.pdf\n",
    "\n",
    "## This method"
   ]
  },
  {
   "cell_type": "code",
   "execution_count": null,
   "id": "47f9bdb3-550a-4ffc-8b8a-35c8531a2956",
   "metadata": {},
   "outputs": [],
   "source": [
    "resfile = Path(f\"results/multinews/230111T133039/_FINAL\")\n",
    "assert resfile.exists()\n",
    "\n",
    "res, info = load_resfile(resfile)\n",
    "info, f\"failed percentage: {info['failed_points_ids']/info['processed_points']*100:.2f}%\""
   ]
  },
  {
   "cell_type": "code",
   "execution_count": null,
   "id": "56c46574-c4e4-460e-b553-39445e576c14",
   "metadata": {},
   "outputs": [],
   "source": [
    "fig, axs = plt.subplots(5, 5, figsize=(20, 20))\n",
    "for n_clust_id in range(5):\n",
    "    for n_sent_id in range(5):  \n",
    "        cell = cell_from_hparams(n_clust_id,n_sent_id, is_multinews=True)\n",
    "        ax = axs[n_clust_id,n_sent_id]\n",
    "        im = ax.imshow(cell, vmin=0, vmax=1)\n",
    "        for rouge_id in range(3):\n",
    "            for type_id in range(3):\n",
    "                ax.text(type_id, rouge_id, f\"{cell[rouge_id, type_id]:.2f}\", ha=\"center\", va=\"center\", color=\"w\")\n",
    "        ax.set(xticks=[0,1,2], xticklabels=[\"Prec\",\"Rec\",\"F1\"], yticks=[0,1,2], yticklabels=[\"1grm\",\"2grm\",\"SU\"]);\n",
    "        if n_clust_id == 0:\n",
    "            ax.set(title=f\"sents per cluster = {n_sent_id+1}\")\n",
    "    axs[n_clust_id, 0].set(ylabel=f\"clusters = {n_clust_id+1}\")"
   ]
  }
 ],
 "metadata": {
  "kernelspec": {
   "display_name": "Python 3",
   "language": "python",
   "name": "python3"
  },
  "language_info": {
   "codemirror_mode": {
    "name": "ipython",
    "version": 3
   },
   "file_extension": ".py",
   "mimetype": "text/x-python",
   "name": "python",
   "nbconvert_exporter": "python",
   "pygments_lexer": "ipython3",
   "version": "3.6.3"
  }
 },
 "nbformat": 4,
 "nbformat_minor": 5
}
